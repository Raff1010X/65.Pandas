{
 "cells": [
  {
   "cell_type": "code",
   "execution_count": 35,
   "metadata": {},
   "outputs": [
    {
     "data": {
      "text/plain": [
       "born_city\n",
       "Budapest           1378\n",
       "Moskva (Moscow)     883\n",
       "Oslo                708\n",
       "Stockholm           629\n",
       "Praha (Prague)      600\n",
       "                   ... \n",
       "Kirovgrad             1\n",
       "Pereiaslav            1\n",
       "Podgornyy             1\n",
       "Kudepsta              1\n",
       "Furmanov              1\n",
       "Name: count, Length: 22368, dtype: int64"
      ]
     },
     "execution_count": 35,
     "metadata": {},
     "output_type": "execute_result"
    }
   ],
   "source": [
    "import pandas as pd\n",
    "\n",
    "bios = pd.read_csv('data/bios.csv')\n",
    "\n",
    "bios['born_city'].value_counts()"
   ]
  },
  {
   "cell_type": "code",
   "execution_count": 36,
   "metadata": {},
   "outputs": [
    {
     "data": {
      "text/plain": [
       "athlete_id  name                       born_date   born_city        born_region  born_country  NOC                              height_cm  weight_kg  died_date \n",
       "3915        Ezrael Illkhanouf          1934-07-03  Moskva (Moscow)  Moskva       RUS           Islamic Republic of Iran         159.0      51.0       2019-09-03    1\n",
       "5108        Viktor Pankrashkin         1957-06-19  Moskva (Moscow)  Moskva       RUS           Soviet Union                     220.0      112.0      1993-07-24    1\n",
       "6367        Vadim Kapranov             1940-02-26  Moskva (Moscow)  Moskva       RUS           Russian Federation Soviet Union  190.0      85.0       2021-06-04    1\n",
       "6436        Yury Korneyev              1937-03-26  Moskva (Moscow)  Moskva       RUS           Soviet Union                     198.0      92.0       2002-06-17    1\n",
       "6454        Vyacheslav Khrynin         1937-08-10  Moskva (Moscow)  Moskva       RUS           Soviet Union                     182.0      60.0       2021-01-01    1\n",
       "                                                                                                                                                                   ..\n",
       "99188       Oleg Zaytsev               1939-08-04  Moskva (Moscow)  Moskva       RUS           Soviet Union                     179.0      85.0       1993-03-01    1\n",
       "99237       Yevgeny Zimin              1947-08-06  Moskva (Moscow)  Moskva       RUS           Soviet Union                     173.0      82.0       2018-12-28    1\n",
       "104715      Irina Laricheva            1964-11-19  Moskva (Moscow)  Moskva       RUS           Russian Federation               168.0      72.0       2020-01-29    1\n",
       "117218      Siarhei Artsiukhin         1976-11-01  Moskva (Moscow)  Moskva       RUS           Belarus                          187.0      120.0      2012-09-12    1\n",
       "136685      Ekaterina Alexandrovskaya  2000-01-01  Moskva (Moscow)  Moskva       RUS           Australia                        154.0      43.0       2020-07-18    1\n",
       "Name: count, Length: 140, dtype: int64"
      ]
     },
     "execution_count": 36,
     "metadata": {},
     "output_type": "execute_result"
    }
   ],
   "source": [
    "bios[bios['born_city'] == 'Moskva (Moscow)'].value_counts()"
   ]
  },
  {
   "cell_type": "code",
   "execution_count": 37,
   "metadata": {},
   "outputs": [
    {
     "data": {
      "text/plain": [
       "born_city\n",
       "False    144617\n",
       "True        883\n",
       "Name: count, dtype: int64"
      ]
     },
     "execution_count": 37,
     "metadata": {},
     "output_type": "execute_result"
    }
   ],
   "source": [
    "\n",
    "(bios['born_city'] == 'Moskva (Moscow)').value_counts()"
   ]
  },
  {
   "cell_type": "code",
   "execution_count": 38,
   "metadata": {},
   "outputs": [
    {
     "data": {
      "text/plain": [
       "born_region\n",
       "Moskva                            942\n",
       "Sverdlovsk                        188\n",
       "Leningrad                         181\n",
       "Chelyabinsk                       155\n",
       "Moskva Oblast                     130\n",
       "                                 ... \n",
       "Respublika Tyva                     4\n",
       "Yamalo-Nenets Avtonomny Okrug       4\n",
       "Nenets Avtonomny Okrug              3\n",
       "Respublika Kalmykiya                3\n",
       "Yevreyskaya Avtonomnaya Oblast      1\n",
       "Name: count, Length: 81, dtype: int64"
      ]
     },
     "execution_count": 38,
     "metadata": {},
     "output_type": "execute_result"
    }
   ],
   "source": [
    "bios[bios['born_country'] == 'RUS']['born_region'].value_counts()"
   ]
  },
  {
   "cell_type": "code",
   "execution_count": 39,
   "metadata": {},
   "outputs": [
    {
     "data": {
      "text/plain": [
       "born_city\n",
       "Moskva (Moscow)    883\n",
       "Yekaterinburg      108\n",
       "Chelyabinsk         94\n",
       "Vyborg              72\n",
       "Nizhny Novgorod     70\n",
       "Name: count, dtype: int64"
      ]
     },
     "execution_count": 39,
     "metadata": {},
     "output_type": "execute_result"
    }
   ],
   "source": [
    "bios[bios['born_country'] == 'RUS']['born_city'].value_counts().head()"
   ]
  },
  {
   "cell_type": "code",
   "execution_count": 40,
   "metadata": {},
   "outputs": [
    {
     "data": {
      "text/plain": [
       "height_cm\n",
       "178.0    44\n",
       "170.0    36\n",
       "180.0    35\n",
       "175.0    32\n",
       "176.0    29\n",
       "Name: count, dtype: int64"
      ]
     },
     "execution_count": 40,
     "metadata": {},
     "output_type": "execute_result"
    }
   ],
   "source": [
    "bios[(bios['born_country'] == 'RUS') & (bios['born_city'] == 'Moskva (Moscow)')]['height_cm'].value_counts().head()"
   ]
  },
  {
   "cell_type": "code",
   "execution_count": 41,
   "metadata": {},
   "outputs": [
    {
     "data": {
      "text/plain": [
       "height_cm\n",
       "178.0    44\n",
       "170.0    36\n",
       "180.0    35\n",
       "175.0    32\n",
       "176.0    29\n",
       "Name: count, dtype: int64"
      ]
     },
     "execution_count": 41,
     "metadata": {},
     "output_type": "execute_result"
    }
   ],
   "source": [
    "bios.query(\"born_country == 'RUS' and born_city == 'Moskva (Moscow)'\")['height_cm'].value_counts().head()"
   ]
  }
 ],
 "metadata": {
  "kernelspec": {
   "display_name": "Python 3",
   "language": "python",
   "name": "python3"
  },
  "language_info": {
   "codemirror_mode": {
    "name": "ipython",
    "version": 3
   },
   "file_extension": ".py",
   "mimetype": "text/x-python",
   "name": "python",
   "nbconvert_exporter": "python",
   "pygments_lexer": "ipython3",
   "version": "3.12.5"
  }
 },
 "nbformat": 4,
 "nbformat_minor": 2
}
