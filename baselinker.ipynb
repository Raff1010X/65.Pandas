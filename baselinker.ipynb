{
 "cells": [
  {
   "cell_type": "markdown",
   "metadata": {},
   "source": [
    "1. Pobierz dane wejściowe."
   ]
  },
  {
   "cell_type": "code",
   "execution_count": 37,
   "metadata": {},
   "outputs": [],
   "source": [
    "import time\n",
    "import pandas as pd\n",
    "import requests\n",
    "import json\n",
    "from datetime import datetime, timedelta\n",
    "\n",
    "# Oblicz pierwszy i ostatni dzień zeszłego miesiąca\n",
    "today = datetime.today()\n",
    "first_day_of_current_month = datetime(today.year, today.month, 1)\n",
    "last_day_of_last_month = first_day_of_current_month - timedelta(days=1)\n",
    "first_day_of_last_month = datetime(last_day_of_last_month.year, last_day_of_last_month.month, 1)\n",
    "\n",
    "# Konwertuj na UNIX timestamp\n",
    "first_day = int(first_day_of_last_month.timestamp())\n",
    "last_day = int(first_day_of_current_month.timestamp())\n",
    "\n",
    "# Pobierz dane z API\n",
    "headers = {\n",
    "    'X-BLToken': 'TOKEN'\n",
    "}\n",
    "container = []\n",
    "\n",
    "while True:\n",
    "    data = {\n",
    "        'method': 'getInvoices',\n",
    "        'parameters': f'{{\"date_from\": {first_day}}}'\n",
    "    }\n",
    "    response = requests.post('https://api.baselinker.com/connector.php', headers=headers, data=data)\n",
    "    baza = response.json().get('invoices', [])\n",
    "    if not baza:\n",
    "        break\n",
    "    container.extend(baza)\n",
    "    first_day = baza[-1]['date_add']\n",
    "    if first_day > last_day:\n",
    "        break\n",
    "    time.sleep(1)\n",
    "\n",
    "df = pd.DataFrame(container)\n",
    "\n",
    "# Usuń niepotrzebne kolumny\n",
    "df = df[df['date_add'] < last_day]\n",
    "\n",
    "# Usuń duplikaty\n",
    "df.drop_duplicates(subset=['invoice_id'], inplace=True)"
   ]
  },
  {
   "cell_type": "markdown",
   "metadata": {},
   "source": [
    "2. Sprawdź, czy dane są poprawne."
   ]
  },
  {
   "cell_type": "code",
   "execution_count": 41,
   "metadata": {},
   "outputs": [
    {
     "name": "stdout",
     "output_type": "stream",
     "text": [
      "Zakres od dnia: 2024-08-01 00:00:00\n",
      "Zakres do dnia: 2024-09-01 00:00:00\n",
      "Liczba faktur: 1082\n",
      "<class 'pandas.core.frame.DataFrame'>\n",
      "Index: 1082 entries, 0 to 1091\n",
      "Data columns (total 38 columns):\n",
      " #   Column                    Non-Null Count  Dtype  \n",
      "---  ------                    --------------  -----  \n",
      " 0   invoice_id                1082 non-null   int64  \n",
      " 1   order_id                  1082 non-null   int64  \n",
      " 2   series_id                 1082 non-null   int64  \n",
      " 3   type                      1082 non-null   object \n",
      " 4   number                    1082 non-null   object \n",
      " 5   year                      1082 non-null   int64  \n",
      " 6   month                     1082 non-null   int64  \n",
      " 7   sub_id                    1082 non-null   int64  \n",
      " 8   postfix                   1082 non-null   object \n",
      " 9   date_add                  1082 non-null   int64  \n",
      " 10  date_sell                 1082 non-null   int64  \n",
      " 11  date_pay_to               1082 non-null   int64  \n",
      " 12  currency                  1082 non-null   object \n",
      " 13  total_price_brutto        1082 non-null   float64\n",
      " 14  total_price_netto         1082 non-null   float64\n",
      " 15  invoice_fullname          1082 non-null   object \n",
      " 16  invoice_company           1082 non-null   object \n",
      " 17  invoice_nip               1082 non-null   object \n",
      " 18  invoice_address           1082 non-null   object \n",
      " 19  invoice_city              1082 non-null   object \n",
      " 20  invoice_postcode          1082 non-null   object \n",
      " 21  invoice_country           1082 non-null   object \n",
      " 22  invoice_country_code      1082 non-null   object \n",
      " 23  seller                    1082 non-null   object \n",
      " 24  issuer                    1082 non-null   object \n",
      " 25  payment                   1082 non-null   object \n",
      " 26  additional_info           1082 non-null   object \n",
      " 27  correcting_to_invoice_id  1082 non-null   int64  \n",
      " 28  correcting_reason         1082 non-null   object \n",
      " 29  correcting_items          1082 non-null   bool   \n",
      " 30  correcting_data           1082 non-null   bool   \n",
      " 31  external_invoice_number   1082 non-null   object \n",
      " 32  external_id               1082 non-null   object \n",
      " 33  exchange_currency         1082 non-null   object \n",
      " 34  exchange_rate             1082 non-null   object \n",
      " 35  exchange_date             1082 non-null   object \n",
      " 36  exchange_info             1082 non-null   object \n",
      " 37  items                     1082 non-null   object \n",
      "dtypes: bool(2), float64(2), int64(10), object(24)\n",
      "memory usage: 314.9+ KB\n"
     ]
    }
   ],
   "source": [
    "print('Zakres od dnia: ' + str(first_day_of_last_month))\n",
    "print('Zakres do dnia: ' + str(first_day_of_current_month))\n",
    "print('Liczba faktur: ' + str(len(df)))\n",
    "\n",
    "df.info()"
   ]
  },
  {
   "cell_type": "markdown",
   "metadata": {},
   "source": [
    "3. Zapisz dane do pliku XLSX"
   ]
  },
  {
   "cell_type": "code",
   "execution_count": 29,
   "metadata": {},
   "outputs": [],
   "source": [
    "df.to_excel('invoices.xlsx', index=False)"
   ]
  }
 ],
 "metadata": {
  "kernelspec": {
   "display_name": "Python 3",
   "language": "python",
   "name": "python3"
  },
  "language_info": {
   "codemirror_mode": {
    "name": "ipython",
    "version": 3
   },
   "file_extension": ".py",
   "mimetype": "text/x-python",
   "name": "python",
   "nbconvert_exporter": "python",
   "pygments_lexer": "ipython3",
   "version": "3.12.5"
  }
 },
 "nbformat": 4,
 "nbformat_minor": 1
}
