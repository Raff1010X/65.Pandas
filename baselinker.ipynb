{
 "cells": [
  {
   "cell_type": "markdown",
   "metadata": {},
   "source": [
    "1. Pobierz dane wejściowe."
   ]
  },
  {
   "cell_type": "code",
   "execution_count": 9,
   "metadata": {},
   "outputs": [
    {
     "name": "stdout",
     "output_type": "stream",
     "text": [
      "Request 1 status: SUCCESS. Number of invoices: 100\n",
      "Error! \n"
     ]
    },
    {
     "data": {
      "text/html": [
       "<div>\n",
       "<style scoped>\n",
       "    .dataframe tbody tr th:only-of-type {\n",
       "        vertical-align: middle;\n",
       "    }\n",
       "\n",
       "    .dataframe tbody tr th {\n",
       "        vertical-align: top;\n",
       "    }\n",
       "\n",
       "    .dataframe thead th {\n",
       "        text-align: right;\n",
       "    }\n",
       "</style>\n",
       "<table border=\"1\" class=\"dataframe\">\n",
       "  <thead>\n",
       "    <tr style=\"text-align: right;\">\n",
       "      <th></th>\n",
       "    </tr>\n",
       "  </thead>\n",
       "  <tbody>\n",
       "  </tbody>\n",
       "</table>\n",
       "</div>"
      ],
      "text/plain": [
       "Empty DataFrame\n",
       "Columns: []\n",
       "Index: []"
      ]
     },
     "execution_count": 9,
     "metadata": {},
     "output_type": "execute_result"
    }
   ],
   "source": [
    "import time\n",
    "import pandas as pd\n",
    "import requests\n",
    "from datetime import datetime, timedelta\n",
    "\n",
    "# Oblicz pierwszy i ostatni dzień zeszłego miesiąca\n",
    "today = datetime.today()\n",
    "first_day_of_current_month = datetime(today.year, today.month, 1)\n",
    "last_day_of_last_month = first_day_of_current_month - timedelta(days=1)\n",
    "first_day_of_last_month = datetime(last_day_of_last_month.year, last_day_of_last_month.month, 1)\n",
    "\n",
    "# Konwertuj na UNIX timestamp\n",
    "first_day = int(first_day_of_last_month.timestamp())\n",
    "last_day = int(first_day_of_current_month.timestamp())\n",
    "\n",
    "# Jeśli dzisiejszy dzień miesiąca jest większy niż 7, pobierz dane z bieżącego miesiąca\n",
    "if today.day >= 7:\n",
    "    first_day = int(first_day_of_current_month.timestamp())\n",
    "    last_day = int((today + timedelta(days=1)).timestamp())\n",
    "\n",
    "# Definicja nagłówków i danych do zapytania API\n",
    "headers = {\n",
    "    'X-BLToken': 'YOUR_TOKEN',\n",
    "}\n",
    "data = {\n",
    "        'method': 'getInvoices',\n",
    "}\n",
    "\n",
    "# Pobierz wszystkie faktury\n",
    "all_invoices = []\n",
    "request = 0\n",
    "\n",
    "while True:\n",
    "    request += 1\n",
    "    data['parameters'] = f'{{\"date_from\": {first_day}}}'\n",
    "    response = requests.post('https://api.baselinker.com/connector.php', headers=headers, data=data)\n",
    "    status = response.json().get('status')\n",
    "    invoices = response.json().get('invoices', [])\n",
    "    print(f'Request {request} status: {status}. Number of invoices: {len(invoices)}')\n",
    "    \n",
    "    if status == 'ERROR':\n",
    "        print('Error! ')\n",
    "        break\n",
    "\n",
    "    if not invoices :\n",
    "        print('No invoices?')\n",
    "        break\n",
    "\n",
    "    all_invoices.extend(invoices)\n",
    "    first_day = invoices[-1]['date_add']\n",
    "    if len(invoices) < 100 or first_day >= last_day:\n",
    "        print('End of invoices.')\n",
    "        break\n",
    "\n",
    "    time.sleep(1)\n",
    "\n",
    "# Zapisz dane do DataFrame\n",
    "df = pd.DataFrame(all_invoices)\n",
    "\n",
    "\n",
    "# Usuń niepotrzebne kolumny wg czasu\n",
    "if 'date_add' in df.columns:\n",
    "    df = df[df['date_add'] < last_day]\n",
    "\n",
    "# Usuń duplikaty\n",
    "df.drop_duplicates(subset=['invoice_id'], inplace=True)"
   ]
  },
  {
   "cell_type": "markdown",
   "metadata": {},
   "source": [
    "2. Sprawdź, czy dane są poprawne."
   ]
  },
  {
   "cell_type": "code",
   "execution_count": 10,
   "metadata": {},
   "outputs": [
    {
     "name": "stdout",
     "output_type": "stream",
     "text": [
      "Zakres od dnia: 2024-08-01 00:00:00\n",
      "Zakres do dnia: 2024-09-01 00:00:00\n",
      "Liczba faktur: 0\n",
      "<class 'pandas.core.frame.DataFrame'>\n",
      "RangeIndex: 0 entries\n",
      "Empty DataFrame\n"
     ]
    }
   ],
   "source": [
    "print('Zakres od dnia: ' + str(first_day_of_last_month))\n",
    "print('Zakres do dnia: ' + str(first_day_of_current_month))\n",
    "print('Liczba faktur: ' + str(len(df)))\n",
    "\n",
    "df.info()"
   ]
  },
  {
   "cell_type": "markdown",
   "metadata": {},
   "source": [
    "3. Zapisz dane do pliku XLSX"
   ]
  },
  {
   "cell_type": "code",
   "execution_count": 29,
   "metadata": {},
   "outputs": [],
   "source": [
    "df.to_excel('invoices.xlsx', index=False)"
   ]
  }
 ],
 "metadata": {
  "kernelspec": {
   "display_name": "Python 3",
   "language": "python",
   "name": "python3"
  },
  "language_info": {
   "codemirror_mode": {
    "name": "ipython",
    "version": 3
   },
   "file_extension": ".py",
   "mimetype": "text/x-python",
   "name": "python",
   "nbconvert_exporter": "python",
   "pygments_lexer": "ipython3",
   "version": "3.12.5"
  }
 },
 "nbformat": 4,
 "nbformat_minor": 1
}
